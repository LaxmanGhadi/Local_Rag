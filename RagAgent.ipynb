{
 "cells": [
  {
   "cell_type": "markdown",
   "id": "fbbfe8bf",
   "metadata": {},
   "source": [
    "Virtual Enviromnemt Snapshot"
   ]
  },
  {
   "cell_type": "code",
   "execution_count": 1,
   "id": "cea158d0",
   "metadata": {},
   "outputs": [
    {
     "name": "stdout",
     "output_type": "stream",
     "text": [
      "Package                                  Version\n",
      "---------------------------------------- --------------\n",
      "aiofiles                                 24.1.0\n",
      "aiohappyeyeballs                         2.6.1\n",
      "aiohttp                                  3.12.8\n",
      "aiosignal                                1.3.2\n",
      "annotated-types                          0.7.0\n",
      "anyio                                    4.9.0\n",
      "argon2-cffi                              25.1.0\n",
      "argon2-cffi-bindings                     21.2.0\n",
      "arrow                                    1.3.0\n",
      "asgiref                                  3.8.1\n",
      "asttokens                                3.0.0\n",
      "async-lru                                2.0.5\n",
      "async-timeout                            4.0.3\n",
      "attrs                                    25.3.0\n",
      "babel                                    2.17.0\n",
      "backcall                                 0.2.0\n",
      "backoff                                  2.2.1\n",
      "bcrypt                                   4.3.0\n",
      "beautifulsoup4                           4.13.4\n",
      "bleach                                   6.2.0\n",
      "build                                    1.2.2.post1\n",
      "cachetools                               5.5.2\n",
      "certifi                                  2025.4.26\n",
      "cffi                                     1.17.1\n",
      "chardet                                  5.2.0\n",
      "charset-normalizer                       3.1.0\n",
      "chromadb                                 1.0.12\n",
      "click                                    8.1.8\n",
      "colorama                                 0.4.6\n",
      "coloredlogs                              15.0.1\n",
      "comm                                     0.2.1\n",
      "cryptography                             45.0.3\n",
      "dataclasses-json                         0.6.7\n",
      "debugpy                                  1.8.11\n",
      "decorator                                5.1.1\n",
      "defusedxml                               0.7.1\n",
      "distro                                   1.9.0\n",
      "durationpy                               0.10\n",
      "emoji                                    2.14.1\n",
      "exceptiongroup                           1.2.0\n",
      "executing                                0.8.3\n",
      "fastapi                                  0.115.9\n",
      "fastjsonschema                           2.21.1\n",
      "filelock                                 3.18.0\n",
      "filetype                                 1.2.0\n",
      "flatbuffers                              25.2.10\n",
      "fqdn                                     1.5.1\n",
      "frozenlist                               1.6.2\n",
      "fsspec                                   2025.5.1\n",
      "google-auth                              2.40.2\n",
      "googleapis-common-protos                 1.70.0\n",
      "greenlet                                 3.2.2\n",
      "grpcio                                   1.72.1\n",
      "h11                                      0.16.0\n",
      "html5lib                                 1.1\n",
      "httpcore                                 1.0.9\n",
      "httptools                                0.6.4\n",
      "httpx                                    0.28.1\n",
      "httpx-sse                                0.4.0\n",
      "huggingface-hub                          0.32.4\n",
      "humanfriendly                            10.0\n",
      "idna                                     3.10\n",
      "importlib_metadata                       8.5.0\n",
      "importlib_resources                      6.5.2\n",
      "ipykernel                                6.29.5\n",
      "ipython                                  8.15.0\n",
      "isoduration                              20.11.0\n",
      "jedi                                     0.19.2\n",
      "Jinja2                                   3.1.6\n",
      "jiter                                    0.10.0\n",
      "joblib                                   1.5.1\n",
      "json5                                    0.12.0\n",
      "jsonpatch                                1.33\n",
      "jsonpointer                              3.0.0\n",
      "jsonschema                               4.24.0\n",
      "jsonschema-specifications                2025.4.1\n",
      "jupyter_client                           8.6.3\n",
      "jupyter_core                             5.7.2\n",
      "jupyter-events                           0.12.0\n",
      "jupyter-lsp                              2.2.5\n",
      "jupyter_server                           2.16.0\n",
      "jupyter_server_terminals                 0.5.3\n",
      "jupyterlab                               4.4.3\n",
      "jupyterlab_pygments                      0.3.0\n",
      "jupyterlab_server                        2.27.3\n",
      "kubernetes                               32.0.1\n",
      "langchain                                0.3.25\n",
      "langchain-community                      0.3.24\n",
      "langchain-core                           0.3.63\n",
      "langchain-openai                         0.3.19\n",
      "langchain-text-splitters                 0.3.8\n",
      "langdetect                               1.0.9\n",
      "langsmith                                0.3.44\n",
      "lxml                                     5.4.0\n",
      "Markdown                                 3.8\n",
      "markdown-it-py                           3.0.0\n",
      "MarkupSafe                               3.0.2\n",
      "marshmallow                              3.26.1\n",
      "matplotlib-inline                        0.1.6\n",
      "mdurl                                    0.1.2\n",
      "mistune                                  3.1.3\n",
      "mmh3                                     5.1.0\n",
      "mpmath                                   1.3.0\n",
      "multidict                                6.4.4\n",
      "mypy_extensions                          1.1.0\n",
      "nbclient                                 0.10.2\n",
      "nbconvert                                7.16.6\n",
      "nbformat                                 5.10.4\n",
      "nest-asyncio                             1.6.0\n",
      "networkx                                 3.2.1\n",
      "nltk                                     3.9.1\n",
      "notebook                                 7.4.3\n",
      "notebook_shim                            0.2.4\n",
      "numpy                                    2.0.2\n",
      "oauthlib                                 3.2.2\n",
      "olefile                                  0.47\n",
      "ollama                                   0.5.1\n",
      "onnxruntime                              1.19.2\n",
      "openai                                   1.84.0\n",
      "opentelemetry-api                        1.34.0\n",
      "opentelemetry-exporter-otlp-proto-common 1.34.0\n",
      "opentelemetry-exporter-otlp-proto-grpc   1.34.0\n",
      "opentelemetry-instrumentation            0.55b0\n",
      "opentelemetry-instrumentation-asgi       0.55b0\n",
      "opentelemetry-instrumentation-fastapi    0.55b0\n",
      "opentelemetry-proto                      1.34.0\n",
      "opentelemetry-sdk                        1.34.0\n",
      "opentelemetry-semantic-conventions       0.55b0\n",
      "opentelemetry-util-http                  0.55b0\n",
      "orjson                                   3.10.18\n",
      "overrides                                7.7.0\n",
      "packaging                                24.2\n",
      "pandocfilters                            1.5.1\n",
      "parso                                    0.8.4\n",
      "pickleshare                              0.7.5\n",
      "pillow                                   11.2.1\n",
      "pip                                      25.1\n",
      "platformdirs                             4.3.7\n",
      "posthog                                  4.2.0\n",
      "prometheus_client                        0.22.1\n",
      "prompt-toolkit                           3.0.43\n",
      "propcache                                0.3.1\n",
      "protobuf                                 5.29.5\n",
      "psutil                                   5.9.0\n",
      "pure-eval                                0.2.2\n",
      "pyasn1                                   0.6.1\n",
      "pyasn1_modules                           0.4.2\n",
      "pycparser                                2.22\n",
      "pydantic                                 2.11.5\n",
      "pydantic_core                            2.33.2\n",
      "pydantic-settings                        2.9.1\n",
      "Pygments                                 2.19.1\n",
      "pypdf                                    5.6.0\n",
      "PyPika                                   0.48.9\n",
      "pyproject_hooks                          1.2.0\n",
      "pyreadline3                              3.5.4\n",
      "python-dateutil                          2.9.0.post0\n",
      "python-dotenv                            1.1.0\n",
      "python-iso639                            2025.2.18\n",
      "python-json-logger                       3.3.0\n",
      "python-magic                             0.4.27\n",
      "python-oxmsg                             0.0.2\n",
      "pywin32                                  308\n",
      "pywinpty                                 2.0.15\n",
      "PyYAML                                   6.0.2\n",
      "pyzmq                                    26.2.0\n",
      "RapidFuzz                                3.13.0\n",
      "referencing                              0.36.2\n",
      "regex                                    2024.11.6\n",
      "requests                                 2.32.3\n",
      "requests-oauthlib                        2.0.0\n",
      "requests-toolbelt                        1.0.0\n",
      "rfc3339-validator                        0.1.4\n",
      "rfc3986-validator                        0.1.1\n",
      "rich                                     14.0.0\n",
      "rpds-py                                  0.25.1\n",
      "rsa                                      4.9.1\n",
      "safetensors                              0.5.3\n",
      "scikit-learn                             1.6.1\n",
      "scipy                                    1.13.1\n",
      "Send2Trash                               1.8.3\n",
      "sentence-transformers                    4.1.0\n",
      "setuptools                               78.1.1\n",
      "shellingham                              1.5.4\n",
      "six                                      1.17.0\n",
      "sniffio                                  1.3.1\n",
      "soupsieve                                2.7\n",
      "SQLAlchemy                               2.0.41\n",
      "stack-data                               0.2.0\n",
      "starlette                                0.45.3\n",
      "sympy                                    1.14.0\n",
      "tenacity                                 9.1.2\n",
      "terminado                                0.18.1\n",
      "threadpoolctl                            3.6.0\n",
      "tiktoken                                 0.9.0\n",
      "tinycss2                                 1.4.0\n",
      "tokenizers                               0.21.1\n",
      "tomli                                    2.2.1\n",
      "torch                                    2.7.0\n",
      "tornado                                  6.5.1\n",
      "tqdm                                     4.67.1\n",
      "traitlets                                5.14.3\n",
      "transformers                             4.52.4\n",
      "typer                                    0.16.0\n",
      "types-python-dateutil                    2.9.0.20250516\n",
      "typing_extensions                        4.12.2\n",
      "typing-inspect                           0.9.0\n",
      "typing-inspection                        0.4.1\n",
      "unstructured                             0.17.2\n",
      "unstructured-client                      0.36.0\n",
      "uri-template                             1.3.0\n",
      "urllib3                                  2.4.0\n",
      "uvicorn                                  0.34.3\n",
      "watchfiles                               1.0.5\n",
      "wcwidth                                  0.2.5\n",
      "webcolors                                24.11.1\n",
      "webencodings                             0.5.1\n",
      "websocket-client                         1.8.0\n",
      "websockets                               15.0.1\n",
      "wheel                                    0.45.1\n",
      "wrapt                                    1.17.2\n",
      "yarl                                     1.20.0\n",
      "zipp                                     3.21.0\n",
      "zstandard                                0.23.0\n"
     ]
    }
   ],
   "source": [
    "!pip list"
   ]
  },
  {
   "cell_type": "markdown",
   "id": "fa9d3247",
   "metadata": {},
   "source": [
    "Things that you will need \n",
    "\n",
    "1. Ollama (I am using llama3.2 from ollama you could use any other LLM from ollama you like )\n",
    "2. Langchain Community\n",
    "3. chroma db for vector database\n",
    "4. Unstructured for documents\n",
    "5. For embeddings you could use OpenAi embeddings "
   ]
  },
  {
   "cell_type": "code",
   "execution_count": null,
   "id": "90e1f678",
   "metadata": {},
   "outputs": [
    {
     "name": "stdout",
     "output_type": "stream",
     "text": [
      "NAME                 ID              SIZE      MODIFIED    \n",
      "llama3.2:latest      a80c4f17acd5    2.0 GB    4 weeks ago    \n",
      "openhermes:latest    95477a2659b7    4.1 GB    4 weeks ago    \n",
      "qwen:0.5b            b5dc5e784f2a    394 MB    4 weeks ago    \n"
     ]
    }
   ],
   "source": [
    "!ollama list "
   ]
  },
  {
   "cell_type": "code",
   "execution_count": null,
   "id": "1e802bb0",
   "metadata": {},
   "outputs": [],
   "source": [
    "!pip install -U langchain-community"
   ]
  },
  {
   "cell_type": "code",
   "execution_count": null,
   "id": "76379a1e",
   "metadata": {},
   "outputs": [],
   "source": [
    "!pip install langchain_openai #optional"
   ]
  },
  {
   "cell_type": "code",
   "execution_count": null,
   "id": "6a147528",
   "metadata": {},
   "outputs": [],
   "source": [
    "!pip install chromadb"
   ]
  },
  {
   "cell_type": "code",
   "execution_count": null,
   "id": "f37ea6eb",
   "metadata": {},
   "outputs": [],
   "source": [
    "!pip install unstructured"
   ]
  },
  {
   "cell_type": "code",
   "execution_count": null,
   "id": "5aeff43e",
   "metadata": {},
   "outputs": [],
   "source": [
    "!pip install sentence-transformers"
   ]
  },
  {
   "cell_type": "code",
   "execution_count": null,
   "id": "08acbd43",
   "metadata": {},
   "outputs": [],
   "source": [
    "!pip install \"unstructured[md]\""
   ]
  },
  {
   "cell_type": "code",
   "execution_count": null,
   "id": "5115940d",
   "metadata": {},
   "outputs": [],
   "source": [
    "!pip install ollama"
   ]
  },
  {
   "cell_type": "code",
   "execution_count": 5,
   "id": "5f32f9a4",
   "metadata": {},
   "outputs": [],
   "source": [
    "# Chroma db to Store data that we have processed\n",
    "from langchain.vectorstores.chroma import Chroma\n",
    "# os is to access files from directory\n",
    "import os\n",
    "import shutil\n",
    "# from langchain_openai import OpenAIEmbeddings\n",
    "from langchain_community.document_loaders import DirectoryLoader\n",
    "# import HuggingFaceEmbeddings to create embeddings\n",
    "from langchain.embeddings import HuggingFaceEmbeddings\n",
    "from langchain.docstore.document import Document"
   ]
  },
  {
   "cell_type": "code",
   "execution_count": 6,
   "id": "82feed68",
   "metadata": {},
   "outputs": [],
   "source": [
    "DATA_PATH = 'Data'\n",
    "new_chunks = []\n",
    "CHROMA_PATH = 'CHROMA'"
   ]
  },
  {
   "cell_type": "code",
   "execution_count": 7,
   "id": "13cbfc3f",
   "metadata": {},
   "outputs": [],
   "source": [
    "from langchain.document_loaders.pdf import PyPDFDirectoryLoader\n",
    "\n",
    "def load_documents():\n",
    "    loader = DirectoryLoader(DATA_PATH, glob=\"*.md\")\n",
    "    documents = loader.load()\n",
    "    return documents"
   ]
  },
  {
   "cell_type": "code",
   "execution_count": 8,
   "id": "f93e7bcb",
   "metadata": {},
   "outputs": [],
   "source": [
    "from langchain_text_splitters import RecursiveCharacterTextSplitter\n",
    "from langchain.schema.document import Document\n",
    "\n",
    "def split_text(documents: list[Document]):\n",
    "    text_splitter = RecursiveCharacterTextSplitter(\n",
    "        chunk_size=300,\n",
    "        chunk_overlap=100,\n",
    "        length_function=len,\n",
    "        add_start_index=True,\n",
    "    )\n",
    "    chunks = text_splitter.split_documents(documents)\n",
    "    print(f\"Split {len(documents)} documents into {len(chunks)} chunks.\")\n",
    "\n",
    "    document = chunks[0]\n",
    "    print(document.page_content)\n",
    "    print(document.metadata)\n",
    "    return chunks"
   ]
  },
  {
   "cell_type": "markdown",
   "id": "9801c300",
   "metadata": {},
   "source": [
    "Using Hugging Face embedding function"
   ]
  },
  {
   "cell_type": "code",
   "execution_count": 9,
   "id": "a41de1a1",
   "metadata": {},
   "outputs": [],
   "source": [
    "def save_to_chroma(chunks: list[Document]):\n",
    "    # Clear out the database first.\n",
    "    if os.path.exists(CHROMA_PATH):\n",
    "        shutil.rmtree(CHROMA_PATH)\n",
    "\n",
    "    # Create a new DB from the documents.\n",
    "    db = Chroma.from_documents(\n",
    "        chunks, HuggingFaceEmbeddings(), persist_directory=CHROMA_PATH\n",
    "    )\n",
    "\n",
    "    db.persist()\n",
    "    print(f\"Saved {len(chunks)} chunks to {CHROMA_PATH}.\")\n",
    "\n"
   ]
  },
  {
   "cell_type": "markdown",
   "id": "a5e6a99b",
   "metadata": {},
   "source": [
    "Lets use Ollama Embedding function"
   ]
  },
  {
   "cell_type": "code",
   "execution_count": null,
   "id": "b212f8c3",
   "metadata": {},
   "outputs": [],
   "source": [
    "\n",
    "# def add_to_chroma(chunks:list[Document]):\n",
    "#     db = Chroma(\n",
    "#         persist_directory=CHROMA_PATH,\n",
    "#         embedding_function=HuggingFaceEmbeddings()\n",
    "\n",
    "#     )\n"
   ]
  },
  {
   "cell_type": "code",
   "execution_count": 10,
   "id": "103b769a",
   "metadata": {},
   "outputs": [],
   "source": [
    "\n",
    "def generate_data_store():\n",
    "    documents = load_documents()\n",
    "    chunks = split_text(documents)\n",
    "    save_to_chroma(chunks)\n"
   ]
  },
  {
   "cell_type": "code",
   "execution_count": 11,
   "id": "fb627de8",
   "metadata": {},
   "outputs": [
    {
     "name": "stderr",
     "output_type": "stream",
     "text": [
      "libmagic is unavailable but assists in filetype detection. Please consider installing libmagic for better results.\n"
     ]
    },
    {
     "name": "stdout",
     "output_type": "stream",
     "text": [
      "Split 1 documents into 818 chunks.\n",
      "The Project Gutenberg eBook of Alice's Adventures in Wonderland\n",
      "{'source': 'Data\\\\alice_in_wonderland.md', 'start_index': 0}\n"
     ]
    },
    {
     "name": "stderr",
     "output_type": "stream",
     "text": [
      "C:\\Users\\Com\\AppData\\Local\\Temp\\ipykernel_4108\\2192508030.py:8: LangChainDeprecationWarning: The class `HuggingFaceEmbeddings` was deprecated in LangChain 0.2.2 and will be removed in 1.0. An updated version of the class exists in the :class:`~langchain-huggingface package and should be used instead. To use it run `pip install -U :class:`~langchain-huggingface` and import as `from :class:`~langchain_huggingface import HuggingFaceEmbeddings``.\n",
      "  chunks, HuggingFaceEmbeddings(), persist_directory=CHROMA_PATH\n",
      "C:\\Users\\Com\\AppData\\Local\\Temp\\ipykernel_4108\\2192508030.py:8: LangChainDeprecationWarning: Default values for HuggingFaceEmbeddings.model_name were deprecated in LangChain 0.2.16 and will be removed in 0.4.0. Explicitly pass a model_name to the HuggingFaceEmbeddings constructor instead.\n",
      "  chunks, HuggingFaceEmbeddings(), persist_directory=CHROMA_PATH\n",
      "c:\\Users\\Com\\anaconda3\\envs\\RagEnv\\lib\\site-packages\\tqdm\\auto.py:21: TqdmWarning: IProgress not found. Please update jupyter and ipywidgets. See https://ipywidgets.readthedocs.io/en/stable/user_install.html\n",
      "  from .autonotebook import tqdm as notebook_tqdm\n"
     ]
    },
    {
     "name": "stdout",
     "output_type": "stream",
     "text": [
      "Saved 818 chunks to CHROMA.\n"
     ]
    },
    {
     "name": "stderr",
     "output_type": "stream",
     "text": [
      "C:\\Users\\Com\\AppData\\Local\\Temp\\ipykernel_4108\\2192508030.py:11: LangChainDeprecationWarning: Since Chroma 0.4.x the manual persistence method is no longer supported as docs are automatically persisted.\n",
      "  db.persist()\n"
     ]
    }
   ],
   "source": [
    "def main():\n",
    "    generate_data_store()\n",
    "if __name__ == \"__main__\":\n",
    "    main()"
   ]
  },
  {
   "cell_type": "code",
   "execution_count": 12,
   "id": "d59e1dcc",
   "metadata": {},
   "outputs": [],
   "source": [
    "PROMPT_TEMPLATE = \"\"\"\n",
    "Answer the question based only on the following context:\n",
    "\n",
    "{context}\n",
    "\n",
    "---\n",
    "\n",
    "Answer the question based on the above context: {question}\n",
    "\"\"\""
   ]
  },
  {
   "cell_type": "code",
   "execution_count": 13,
   "id": "a39b4c5f",
   "metadata": {},
   "outputs": [],
   "source": [
    "from langchain.prompts import ChatPromptTemplate"
   ]
  },
  {
   "cell_type": "code",
   "execution_count": 14,
   "id": "beac1e5b",
   "metadata": {},
   "outputs": [],
   "source": [
    "import ollama"
   ]
  },
  {
   "cell_type": "code",
   "execution_count": 15,
   "id": "009cabc9",
   "metadata": {},
   "outputs": [],
   "source": [
    "def query_rag(query_text: str):\n",
    "    # Prepare the DB.\n",
    "    db = Chroma(persist_directory=CHROMA_PATH, embedding_function=HuggingFaceEmbeddings())\n",
    "\n",
    "    # Search the DB.\n",
    "    results = db.similarity_search_with_score(query_text, k=5)\n",
    "    context_text = \"\\n\\n---\\n\\n\".join([doc.page_content for doc, _score in results])\n",
    "    prompt_template = ChatPromptTemplate.from_template(PROMPT_TEMPLATE)\n",
    "    prompt = prompt_template.format(context=context_text, question=query_text)\n",
    "    response  = ollama.chat(\n",
    "        model = \"llama3.2\",\n",
    "        messages = [\n",
    "            {'role':'user', \"content\":prompt}\n",
    "            ]\n",
    "    )\n",
    "    return response['message']['content']\n"
   ]
  },
  {
   "cell_type": "code",
   "execution_count": 17,
   "id": "f22aa3b0",
   "metadata": {},
   "outputs": [
    {
     "name": "stderr",
     "output_type": "stream",
     "text": [
      "C:\\Users\\Com\\AppData\\Local\\Temp\\ipykernel_4108\\2154296689.py:3: LangChainDeprecationWarning: Default values for HuggingFaceEmbeddings.model_name were deprecated in LangChain 0.2.16 and will be removed in 0.4.0. Explicitly pass a model_name to the HuggingFaceEmbeddings constructor instead.\n",
      "  db = Chroma(persist_directory=CHROMA_PATH, embedding_function=HuggingFaceEmbeddings())\n"
     ]
    },
    {
     "data": {
      "text/plain": [
       "'Based on the context, it can be inferred that Alice is not particularly strong. She mentions feeling \"uncomfortable\" while shrunk in size and appears to be worried about her future prospects of learning new things and never aging, suggesting a vulnerability or sensitivity to her situation rather than any physical strength.'"
      ]
     },
     "execution_count": 17,
     "metadata": {},
     "output_type": "execute_result"
    }
   ],
   "source": [
    "query_rag(\"is alice strong\")"
   ]
  },
  {
   "cell_type": "code",
   "execution_count": null,
   "id": "30306513",
   "metadata": {},
   "outputs": [],
   "source": []
  }
 ],
 "metadata": {
  "kernelspec": {
   "display_name": "RagEnv",
   "language": "python",
   "name": "python3"
  },
  "language_info": {
   "codemirror_mode": {
    "name": "ipython",
    "version": 3
   },
   "file_extension": ".py",
   "mimetype": "text/x-python",
   "name": "python",
   "nbconvert_exporter": "python",
   "pygments_lexer": "ipython3",
   "version": "3.9.21"
  }
 },
 "nbformat": 4,
 "nbformat_minor": 5
}
